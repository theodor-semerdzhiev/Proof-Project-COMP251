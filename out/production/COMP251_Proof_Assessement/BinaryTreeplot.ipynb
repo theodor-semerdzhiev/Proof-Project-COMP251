{
 "cells": [
  {
   "cell_type": "code",
   "execution_count": 222,
   "metadata": {},
   "outputs": [],
   "source": [
    "import numpy as np\n",
    "import matplotlib.pyplot as plt\n",
    "import seaborn as sns\n",
    "import pandas as pd\n",
    "\n"
   ]
  },
  {
   "cell_type": "code",
   "execution_count": 225,
   "metadata": {},
   "outputs": [],
   "source": [
    "data = pd.read_csv('BinTree_out.csv')\n",
    "n_data = np.arange(1,999)\n",
    "n_data = [x*10 for x in n_data]\n"
   ]
  },
  {
   "cell_type": "code",
   "execution_count": 224,
   "metadata": {},
   "outputs": [],
   "source": [
    "n_vals = np.arange(1,100001)\n",
    "logn_vals = 200*np.log2(n_vals)"
   ]
  },
  {
   "cell_type": "code",
   "execution_count": 1,
   "metadata": {},
   "outputs": [
    {
     "ename": "NameError",
     "evalue": "name 'plt' is not defined",
     "output_type": "error",
     "traceback": [
      "\u001b[1;31m---------------------------------------------------------------------------\u001b[0m",
      "\u001b[1;31mNameError\u001b[0m                                 Traceback (most recent call last)",
      "Cell \u001b[1;32mIn[1], line 1\u001b[0m\n\u001b[1;32m----> 1\u001b[0m fig, ax \u001b[39m=\u001b[39m plt\u001b[39m.\u001b[39msubplots()\n\u001b[0;32m      2\u001b[0m ax\u001b[39m.\u001b[39mplot(n_vals, n_logn_vals, label\u001b[39m=\u001b[39m\u001b[39m'\u001b[39m\u001b[39mlog(n)\u001b[39m\u001b[39m'\u001b[39m)\n\u001b[0;32m      3\u001b[0m ax\u001b[39m.\u001b[39mplot(n_data, data)\n",
      "\u001b[1;31mNameError\u001b[0m: name 'plt' is not defined"
     ]
    }
   ],
   "source": [
    "fig, ax = plt.subplots()\n",
    "ax.plot(n_vals, logn_vals, label='log(n)')\n",
    "ax.plot(n_data, data)\n",
    "plt.ylim(0,20000)\n",
    "plt.xlim(10,10**4)\n",
    "plt.title('Time Complexity of node deletion in Binary Tree')\n",
    "# plt.xscale('log')"
   ]
  }
 ],
 "metadata": {
  "kernelspec": {
   "display_name": "Python 3",
   "language": "python",
   "name": "python3"
  },
  "language_info": {
   "codemirror_mode": {
    "name": "ipython",
    "version": 3
   },
   "file_extension": ".py",
   "mimetype": "text/x-python",
   "name": "python",
   "nbconvert_exporter": "python",
   "pygments_lexer": "ipython3",
   "version": "3.10.10"
  },
  "orig_nbformat": 4
 },
 "nbformat": 4,
 "nbformat_minor": 2
}
